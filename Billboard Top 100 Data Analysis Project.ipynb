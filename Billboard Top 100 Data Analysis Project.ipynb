{
 "cells": [
  {
   "cell_type": "markdown",
   "metadata": {},
   "source": [
    "Billboard Top 100 Data Analysis Project"
   ]
  },
  {
   "cell_type": "code",
   "execution_count": null,
   "metadata": {},
   "outputs": [],
   "source": [
    "import pandas as pd\n",
    "import matplotlib.pyplot as plt\n",
    "import seaborn as sns\n",
    "\n",
    "# Load the dataset\n",
    "data = pd.read_csv('billboard.csv')\n",
    "\n",
    "# Inspect the dataset\n",
    "print(data.head())\n",
    "print(data.info())\n"
   ]
  },
  {
   "cell_type": "markdown",
   "metadata": {},
   "source": [
    "Data Cleaning"
   ]
  },
  {
   "cell_type": "code",
   "execution_count": null,
   "metadata": {},
   "outputs": [],
   "source": [
    "print(data.isnull().sum())\n",
    "\n",
    "\n",
    "data = data.dropna()"
   ]
  },
  {
   "cell_type": "markdown",
   "metadata": {},
   "source": [
    "Exploratory Data Analysis "
   ]
  },
  {
   "cell_type": "code",
   "execution_count": null,
   "metadata": {},
   "outputs": [],
   "source": [
    "print(data.describe())\n"
   ]
  },
  {
   "cell_type": "markdown",
   "metadata": {},
   "source": [
    "Q1. Which artists appear most frequently on the Billboard Top 100?"
   ]
  },
  {
   "cell_type": "code",
   "execution_count": null,
   "metadata": {},
   "outputs": [],
   "source": [
    "top_artists = data['artist'].value_counts().head(10)\n",
    "print(\"Top 10 Artists:\")\n",
    "print(top_artists)\n",
    "plt.figure(figsize=(10, 6))\n",
    "top_artists.plot(kind='bar', color='skyblue')\n",
    "plt.title('Top 10 Artists by Number of Songs in Billboard Top 100')\n",
    "plt.xlabel('Artist')\n",
    "plt.ylabel('Number of Songs')\n",
    "plt.xticks(rotation=45)\n",
    "plt.tight_layout()\n",
    "plt.show()"
   ]
  },
  {
   "cell_type": "markdown",
   "metadata": {},
   "source": [
    "Q2. What are the trends in song length over the years?"
   ]
  },
  {
   "cell_type": "code",
   "execution_count": null,
   "metadata": {},
   "outputs": [],
   "source": [
    "data['year'] = pd.to_datetime(data['date']).dt.year\n",
    "avg_song_length = data.groupby('year')['duration'].mean()\n",
    "print(\"Average Song Length by Year:\")\n",
    "print(avg_song_length)\n",
    "plt.figure(figsize=(10, 6))\n",
    "plt.plot(avg_song_length, marker='o', linestyle='-', color='green')\n",
    "plt.title('Average Song Length Over Years')\n",
    "plt.xlabel('Year')\n",
    "plt.ylabel('Average Song Length (seconds)')\n",
    "plt.grid()\n",
    "plt.tight_layout()\n",
    "plt.show()"
   ]
  },
  {
   "cell_type": "markdown",
   "metadata": {},
   "source": [
    "Q3. Which genres dominate the Billboard Top 100?"
   ]
  },
  {
   "cell_type": "code",
   "execution_count": null,
   "metadata": {},
   "outputs": [],
   "source": [
    "if 'genre' in data.columns:\n",
    "    genre_distribution = data['genre'].value_counts()\n",
    "    print(\"Genre Distribution:\")\n",
    "    print(genre_distribution)\n",
    "    plt.figure(figsize=(10, 6))\n",
    "    genre_distribution.plot(kind='pie', autopct='%1.1f%%', startangle=140, colors=sns.color_palette('pastel'))\n",
    "    plt.title('Genre Distribution in Billboard Top 100')\n",
    "    plt.ylabel('')\n",
    "    plt.tight_layout()\n",
    "    plt.show()\n",
    "else:\n",
    "    print(\"The dataset does not contain a 'genre' column.\")\n"
   ]
  },
  {
   "cell_type": "markdown",
   "metadata": {},
   "source": [
    "Q4. How does the tempo of songs correlate with their popularity?"
   ]
  },
  {
   "cell_type": "code",
   "execution_count": null,
   "metadata": {},
   "outputs": [],
   "source": [
    "if 'tempo' in data.columns and 'popularity' in data.columns:\n",
    "    plt.figure(figsize=(10, 6))\n",
    "    sns.scatterplot(x='tempo', y='popularity', data=data, alpha=0.7, color='purple')\n",
    "    plt.title('Correlation Between Tempo and Popularity')\n",
    "    plt.xlabel('Tempo (BPM)')\n",
    "    plt.ylabel('Popularity')\n",
    "    plt.tight_layout()\n",
    "    plt.show()\n",
    "else:\n",
    "    print(\"The dataset does not contain 'tempo' or 'popularity' columns for correlation analysis.\")\n"
   ]
  },
  {
   "cell_type": "markdown",
   "metadata": {},
   "source": [
    "Q5. Are there seasonal trends in the release of top-charting songs?"
   ]
  },
  {
   "cell_type": "code",
   "execution_count": null,
   "metadata": {},
   "outputs": [],
   "source": [
    "data['month'] = pd.to_datetime(data['date']).dt.month\n",
    "monthly_counts = data['month'].value_counts().sort_index()\n",
    "print(\"Monthly Distribution of Top-Charting Songs:\")\n",
    "print(monthly_counts)\n",
    "plt.figure(figsize=(10, 6))\n",
    "monthly_counts.plot(kind='bar', color='orange')\n",
    "plt.title('Monthly Distribution of Top-Charting Songs')\n",
    "plt.xlabel('Month')\n",
    "plt.ylabel('Number of Songs')\n",
    "plt.tight_layout()\n",
    "plt.show()"
   ]
  },
  {
   "cell_type": "markdown",
   "metadata": {},
   "source": [
    "Q6. Which year had the highest average popularity score for songs?"
   ]
  },
  {
   "cell_type": "code",
   "execution_count": null,
   "metadata": {},
   "outputs": [],
   "source": [
    "avg_popularity_per_year = data.groupby('year')['popularity'].mean()\n",
    "most_popular_year = avg_popularity_per_year.idxmax()\n",
    "print(f'The year with the highest average popularity score: {most_popular_year} with a score of {avg_popularity_per_year[most_popular_year]:.2f}')"
   ]
  },
  {
   "cell_type": "markdown",
   "metadata": {},
   "source": [
    "Q7. What is the distribution of song durations?"
   ]
  },
  {
   "cell_type": "code",
   "execution_count": null,
   "metadata": {},
   "outputs": [],
   "source": [
    "plt.figure(figsize=(10, 6))\n",
    "data['duration'].plot(kind='hist', bins=20, color='skyblue', edgecolor='black')\n",
    "plt.title('Distribution of Song Durations')\n",
    "plt.xlabel('Duration (seconds)')\n",
    "plt.ylabel('Frequency')\n",
    "plt.tight_layout()\n",
    "plt.show()"
   ]
  },
  {
   "cell_type": "markdown",
   "metadata": {},
   "source": [
    "Q8. How many unique artists appear each year?"
   ]
  },
  {
   "cell_type": "code",
   "execution_count": null,
   "metadata": {},
   "outputs": [],
   "source": [
    "unique_artists_per_year = data.groupby('year')['artist'].nunique()\n",
    "print(\"Number of Unique Artists Per Year:\")\n",
    "print(unique_artists_per_year)\n",
    "plt.figure(figsize=(10, 6))\n",
    "unique_artists_per_year.plot(kind='line', marker='o', color='red')\n",
    "plt.title('Unique Artists Per Year')\n",
    "plt.xlabel('Year')\n",
    "plt.ylabel('Number of Unique Artists')\n",
    "plt.grid()\n",
    "plt.tight_layout()\n",
    "plt.show()"
   ]
  },
  {
   "cell_type": "markdown",
   "metadata": {},
   "source": [
    "Q9. What is the relationship between release year and genre diversity?"
   ]
  },
  {
   "cell_type": "code",
   "execution_count": null,
   "metadata": {},
   "outputs": [],
   "source": [
    "if 'genre' in data.columns:\n",
    "    unique_genres_per_year = data.groupby('year')['genre'].nunique()\n",
    "    print(\"Unique Genres Per Year:\")\n",
    "    print(unique_genres_per_year)\n",
    "    plt.figure(figsize=(10, 6))\n",
    "    unique_genres_per_year.plot(kind='line', marker='o', color='purple')\n",
    "    plt.title('Unique Genres Per Year')\n",
    "    plt.xlabel('Year')\n",
    "    plt.ylabel('Number of Unique Genres')\n",
    "    plt.grid()\n",
    "    plt.tight_layout()\n",
    "    plt.show()\n",
    "else:\n",
    "    print(\"Cannot determine genre diversity as the 'genre' column is missing.\")\n"
   ]
  },
  {
   "cell_type": "markdown",
   "metadata": {},
   "source": [
    "Q10. What is the correlation between song duration and popularity?"
   ]
  },
  {
   "cell_type": "code",
   "execution_count": null,
   "metadata": {},
   "outputs": [],
   "source": [
    "if 'duration' in data.columns and 'popularity' in data.columns:\n",
    "    correlation = data['duration'].corr(data['popularity'])\n",
    "    print(f'Correlation between song duration and popularity: {correlation:.2f}')\n",
    "else:\n",
    "    print(\"Cannot calculate correlation as 'duration' or 'popularity' columns are missing.\")\n"
   ]
  }
 ],
 "metadata": {
  "language_info": {
   "name": "python"
  }
 },
 "nbformat": 4,
 "nbformat_minor": 2
}
